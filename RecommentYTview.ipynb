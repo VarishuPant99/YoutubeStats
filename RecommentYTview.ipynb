{
 "cells": [
  {
   "cell_type": "code",
   "execution_count": 7,
   "metadata": {},
   "outputs": [],
   "source": [
    "from IPython.display import display, Markdown, clear_output\n",
    "import ipywidgets as widgets\n",
    "import pandas as pd"
   ]
  },
  {
   "cell_type": "code",
   "execution_count": 10,
   "metadata": {},
   "outputs": [],
   "source": [
    "yt=pd.read_csv(r'C:\\Users\\Varishu Pant\\Desktop\\Praxis docs\\Excel\\YtDataOld.csv')  #Reading Data"
   ]
  },
  {
   "cell_type": "code",
   "execution_count": 5,
   "metadata": {},
   "outputs": [],
   "source": [
    "def pipeline(data):\n",
    "    import pandas as pd\n",
    "    import matplotlib.pyplot as plt\n",
    "    import seaborn as sns\n",
    "    import numpy as np\n",
    "    import random as rand\n",
    "    import pickle as pkl\n",
    "    import warnings\n",
    "    warnings.filterwarnings('ignore')\n",
    "    to_remove=['Unnamed: 0','Unnamed: 0.1','twitter_url','defaultAudioLanguage']  #Removing Unncessary Columns\n",
    "    data=data.drop(to_remove,axis=1)\n",
    "   \n",
    "\n",
    "    weekdays=['Friday','Monday','Saturday','Sunday','Thursday','Tuesday','Wednesday']\n",
    "    categories=['Film & Animation','Autos & Vehicles','Music','Pets & Animals','Sports','Travel & Events','Gaming','People & Blogs','Comedy','Entertainment','News & Politics','Howto & Style','Education','Science & Technology','Nonprofits & Activism']\n",
    "\n",
    "    for i in range(0,7):\n",
    "        data.day_uploaded[data.day_uploaded==i]=weekdays[i]\n",
    "    for i in range(0,15):\n",
    "        data.categoryId[data.categoryId==i]=categories[i]\n",
    "\n",
    "    data['YearPublished']=0\n",
    "    years=[2010,2011,2012,2013,2014,2015,2016]\n",
    "    for i in range(0,7):\n",
    "        data['YearPublished'][data[(data['months_old']>12*i) & (data['months_old']<=12*(i+1))].index]=years[i]\n",
    "    \n",
    "    data=data.drop(index=data[data['YearPublished']==0].index,axis=0)\n",
    "    \n",
    "    data=data.drop(index=data[data['duration']==0].index,axis=0)\n",
    "    return(data)"
   ]
  },
  {
   "cell_type": "code",
   "execution_count": 29,
   "metadata": {},
   "outputs": [],
   "source": [
    "yt_processed=pipeline(yt)    #Using complete dataset for recommendations"
   ]
  },
  {
   "cell_type": "code",
   "execution_count": 12,
   "metadata": {},
   "outputs": [],
   "source": [
    "menu_day = widgets.Dropdown(\n",
    "       options=['Not Decided','Monday', 'Tuesday', 'Wednesday','Thursday','Friday','Saturday','Sunday'],\n",
    "       value='Not Decided',\n",
    "       description='Upload Day:')\n",
    "menu_categories= widgets.Dropdown(\n",
    "       options=['Not Decided','Film & Animation','Autos & Vehicles','Music','Pets & Animals','Sports','Travel & Events','Gaming','People & Blogs','Comedy','Entertainment','News & Politics','Howto & Style','Education','Science & Technology','Nonprofits & Activism'],\n",
    "       value='Not Decided',\n",
    "       description='Category:')"
   ]
  },
  {
   "cell_type": "code",
   "execution_count": 30,
   "metadata": {},
   "outputs": [],
   "source": [
    "def predict(day,category,duration=None):\n",
    "    data=yt_processed\n",
    "    m_v_d_c=data[['viewCount','categoryId','day_uploaded']].groupby(['day_uploaded','categoryId'],as_index=False).mean()\n",
    "    m_v_c=data[['viewCount','categoryId']].groupby(['categoryId'],as_index=False).mean()\n",
    "    m_v_d=data[['viewCount','day_uploaded']].groupby(['day_uploaded'],as_index=False).mean()\n",
    "    categories=['Film & Animation','Autos & Vehicles','Music','Pets & Animals','Sports','Travel & Events','Gaming','People & Blogs','Comedy','Entertainment','News & Politics','Howto & Style','Education','Science & Technology','Nonprofits & Activism']\n",
    "    days=['Monday','Tuesday','Wednesday','Thursday','Friday','Saturday','Sunday']\n",
    "    if day=='Not Decided':                                            \n",
    "        if category=='Not Decided':\n",
    "            v=data['viewCount'].mean()\n",
    "            print('Expected Views:',round(v))\n",
    "            print('\\nRecommendation:For maximum views,upload on a Friday')\n",
    "            return()\n",
    "            \n",
    "        else:\n",
    "            v=int(m_v_c[m_v_c['categoryId']==category]['viewCount'])\n",
    "            print('Expected Views:',round(v))\n",
    "            data=m_v_d_c[m_v_d_c['categoryId']==category]\n",
    "            \n",
    "    else:\n",
    "        if category=='Not Decided':\n",
    "            v=int(m_v_d[m_v_d['day_uploaded']==day]['viewCount'])\n",
    "            print('Expected Views:',round(v))\n",
    "            data=m_v_d_c[m_v_d_c['day_uploaded']==day]\n",
    "            \n",
    "           \n",
    "            \n",
    "        else:\n",
    "            v=int(m_v_d_c[(m_v_d_c['day_uploaded']==day) & (m_v_d_c['categoryId']==category)]['viewCount'])\n",
    "            print('Expected Views:',round(v))\n",
    "            return()\n",
    "            \n",
    "    \n",
    "    s=str(data[data['viewCount']==data['viewCount'].max()]['categoryId'])\n",
    "    cat=s[s.find(' ')+4:s.find('\\n')]\n",
    "    s=str(data[data['viewCount']==data['viewCount'].max()]['day_uploaded'])\n",
    "    weekday=s[s.find(' ')+4:s.find('\\n')]\n",
    "                    \n",
    "    print('\\nRecommendation:For maximum views,upload a',cat,'video on a',weekday)\n",
    "    return()\n"
   ]
  },
  {
   "cell_type": "code",
   "execution_count": 31,
   "metadata": {},
   "outputs": [],
   "source": [
    "box = widgets.VBox([menu_day,menu_categories ])\n",
    "button = widgets.Button(description='Execute')\n",
    "out = widgets.Output()\n",
    "def on_button_clicked(_):\n",
    "      # \"linking function with output\"\n",
    "      with out:\n",
    "          # what happens when we press the button\n",
    "          clear_output()\n",
    "          predict(day=menu_day.value,category=menu_categories.value)\n",
    "            # linking button and function together using a button's method\n",
    "button.on_click(on_button_clicked)"
   ]
  },
  {
   "cell_type": "code",
   "execution_count": 32,
   "metadata": {},
   "outputs": [
    {
     "data": {
      "application/vnd.jupyter.widget-view+json": {
       "model_id": "51ce4cfb9ede41cf856864bbccfc981b",
       "version_major": 2,
       "version_minor": 0
      },
      "text/plain": [
       "VBox(children=(Dropdown(description='Upload Day:', options=('Not Decided', 'Monday', 'Tuesday', 'Wednesday', '…"
      ]
     },
     "metadata": {},
     "output_type": "display_data"
    }
   ],
   "source": [
    "box"
   ]
  },
  {
   "cell_type": "code",
   "execution_count": 33,
   "metadata": {},
   "outputs": [
    {
     "data": {
      "application/vnd.jupyter.widget-view+json": {
       "model_id": "a2b0366cd7884765963aeee0f08de10f",
       "version_major": 2,
       "version_minor": 0
      },
      "text/plain": [
       "VBox(children=(Button(description='Execute', style=ButtonStyle()), Output()))"
      ]
     },
     "metadata": {},
     "output_type": "display_data"
    }
   ],
   "source": [
    "widgets.VBox([button,out])"
   ]
  }
 ],
 "metadata": {
  "kernelspec": {
   "display_name": "Python 3",
   "language": "python",
   "name": "python3"
  },
  "language_info": {
   "codemirror_mode": {
    "name": "ipython",
    "version": 3
   },
   "file_extension": ".py",
   "mimetype": "text/x-python",
   "name": "python",
   "nbconvert_exporter": "python",
   "pygments_lexer": "ipython3",
   "version": "3.7.3"
  }
 },
 "nbformat": 4,
 "nbformat_minor": 2
}
